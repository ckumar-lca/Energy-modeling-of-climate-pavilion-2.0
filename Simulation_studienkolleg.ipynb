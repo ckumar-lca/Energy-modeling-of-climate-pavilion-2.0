{
 "cells": [
  {
   "cell_type": "code",
   "execution_count": 1,
   "id": "0649b7a3",
   "metadata": {
    "tags": []
   },
   "outputs": [
    {
     "name": "stdout",
     "output_type": "stream",
     "text": [
      "Requirement already satisfied: chart_studio in c:\\users\\raj\\anaconda3\\lib\\site-packages (1.1.0)\n",
      "Requirement already satisfied: plotly in c:\\users\\raj\\anaconda3\\lib\\site-packages (from chart_studio) (5.9.0)\n",
      "Requirement already satisfied: requests in c:\\users\\raj\\anaconda3\\lib\\site-packages (from chart_studio) (2.31.0)\n",
      "Requirement already satisfied: retrying>=1.3.3 in c:\\users\\raj\\anaconda3\\lib\\site-packages (from chart_studio) (1.3.4)\n",
      "Requirement already satisfied: six in c:\\users\\raj\\anaconda3\\lib\\site-packages (from chart_studio) (1.16.0)\n",
      "Requirement already satisfied: tenacity>=6.2.0 in c:\\users\\raj\\anaconda3\\lib\\site-packages (from plotly->chart_studio) (8.2.2)\n",
      "Requirement already satisfied: charset-normalizer<4,>=2 in c:\\users\\raj\\anaconda3\\lib\\site-packages (from requests->chart_studio) (2.0.4)\n",
      "Requirement already satisfied: idna<4,>=2.5 in c:\\users\\raj\\anaconda3\\lib\\site-packages (from requests->chart_studio) (3.4)\n",
      "Requirement already satisfied: urllib3<3,>=1.21.1 in c:\\users\\raj\\anaconda3\\lib\\site-packages (from requests->chart_studio) (1.26.16)\n",
      "Requirement already satisfied: certifi>=2017.4.17 in c:\\users\\raj\\anaconda3\\lib\\site-packages (from requests->chart_studio) (2023.11.17)\n",
      "Requirement already satisfied: cufflinks in c:\\users\\raj\\anaconda3\\lib\\site-packages (0.17.3)\n",
      "Requirement already satisfied: numpy>=1.9.2 in c:\\users\\raj\\anaconda3\\lib\\site-packages (from cufflinks) (1.24.3)\n",
      "Requirement already satisfied: pandas>=0.19.2 in c:\\users\\raj\\anaconda3\\lib\\site-packages (from cufflinks) (2.0.3)\n",
      "Requirement already satisfied: plotly>=4.1.1 in c:\\users\\raj\\anaconda3\\lib\\site-packages (from cufflinks) (5.9.0)\n",
      "Requirement already satisfied: six>=1.9.0 in c:\\users\\raj\\anaconda3\\lib\\site-packages (from cufflinks) (1.16.0)\n",
      "Requirement already satisfied: colorlover>=0.2.1 in c:\\users\\raj\\anaconda3\\lib\\site-packages (from cufflinks) (0.3.0)\n",
      "Requirement already satisfied: setuptools>=34.4.1 in c:\\users\\raj\\anaconda3\\lib\\site-packages (from cufflinks) (68.0.0)\n",
      "Requirement already satisfied: ipython>=5.3.0 in c:\\users\\raj\\anaconda3\\lib\\site-packages (from cufflinks) (8.15.0)\n",
      "Requirement already satisfied: ipywidgets>=7.0.0 in c:\\users\\raj\\anaconda3\\lib\\site-packages (from cufflinks) (8.0.4)\n",
      "Requirement already satisfied: backcall in c:\\users\\raj\\anaconda3\\lib\\site-packages (from ipython>=5.3.0->cufflinks) (0.2.0)\n",
      "Requirement already satisfied: decorator in c:\\users\\raj\\anaconda3\\lib\\site-packages (from ipython>=5.3.0->cufflinks) (5.1.1)\n",
      "Requirement already satisfied: jedi>=0.16 in c:\\users\\raj\\anaconda3\\lib\\site-packages (from ipython>=5.3.0->cufflinks) (0.18.1)\n",
      "Requirement already satisfied: matplotlib-inline in c:\\users\\raj\\anaconda3\\lib\\site-packages (from ipython>=5.3.0->cufflinks) (0.1.6)\n",
      "Requirement already satisfied: pickleshare in c:\\users\\raj\\anaconda3\\lib\\site-packages (from ipython>=5.3.0->cufflinks) (0.7.5)\n",
      "Requirement already satisfied: prompt-toolkit!=3.0.37,<3.1.0,>=3.0.30 in c:\\users\\raj\\anaconda3\\lib\\site-packages (from ipython>=5.3.0->cufflinks) (3.0.36)\n",
      "Requirement already satisfied: pygments>=2.4.0 in c:\\users\\raj\\anaconda3\\lib\\site-packages (from ipython>=5.3.0->cufflinks) (2.15.1)\n",
      "Requirement already satisfied: stack-data in c:\\users\\raj\\anaconda3\\lib\\site-packages (from ipython>=5.3.0->cufflinks) (0.2.0)\n",
      "Requirement already satisfied: traitlets>=5 in c:\\users\\raj\\anaconda3\\lib\\site-packages (from ipython>=5.3.0->cufflinks) (5.7.1)\n",
      "Requirement already satisfied: colorama in c:\\users\\raj\\anaconda3\\lib\\site-packages (from ipython>=5.3.0->cufflinks) (0.4.6)\n",
      "Requirement already satisfied: ipykernel>=4.5.1 in c:\\users\\raj\\anaconda3\\lib\\site-packages (from ipywidgets>=7.0.0->cufflinks) (6.25.0)\n",
      "Requirement already satisfied: widgetsnbextension~=4.0 in c:\\users\\raj\\anaconda3\\lib\\site-packages (from ipywidgets>=7.0.0->cufflinks) (4.0.5)\n",
      "Requirement already satisfied: jupyterlab-widgets~=3.0 in c:\\users\\raj\\anaconda3\\lib\\site-packages (from ipywidgets>=7.0.0->cufflinks) (3.0.5)\n",
      "Requirement already satisfied: python-dateutil>=2.8.2 in c:\\users\\raj\\anaconda3\\lib\\site-packages (from pandas>=0.19.2->cufflinks) (2.8.2)\n",
      "Requirement already satisfied: pytz>=2020.1 in c:\\users\\raj\\anaconda3\\lib\\site-packages (from pandas>=0.19.2->cufflinks) (2023.3.post1)\n",
      "Requirement already satisfied: tzdata>=2022.1 in c:\\users\\raj\\anaconda3\\lib\\site-packages (from pandas>=0.19.2->cufflinks) (2023.3)\n",
      "Requirement already satisfied: tenacity>=6.2.0 in c:\\users\\raj\\anaconda3\\lib\\site-packages (from plotly>=4.1.1->cufflinks) (8.2.2)\n",
      "Requirement already satisfied: comm>=0.1.1 in c:\\users\\raj\\anaconda3\\lib\\site-packages (from ipykernel>=4.5.1->ipywidgets>=7.0.0->cufflinks) (0.1.2)\n",
      "Requirement already satisfied: debugpy>=1.6.5 in c:\\users\\raj\\anaconda3\\lib\\site-packages (from ipykernel>=4.5.1->ipywidgets>=7.0.0->cufflinks) (1.6.7)\n",
      "Requirement already satisfied: jupyter-client>=6.1.12 in c:\\users\\raj\\anaconda3\\lib\\site-packages (from ipykernel>=4.5.1->ipywidgets>=7.0.0->cufflinks) (7.4.9)\n",
      "Requirement already satisfied: jupyter-core!=5.0.*,>=4.12 in c:\\users\\raj\\anaconda3\\lib\\site-packages (from ipykernel>=4.5.1->ipywidgets>=7.0.0->cufflinks) (5.3.0)\n",
      "Requirement already satisfied: nest-asyncio in c:\\users\\raj\\anaconda3\\lib\\site-packages (from ipykernel>=4.5.1->ipywidgets>=7.0.0->cufflinks) (1.5.6)\n",
      "Requirement already satisfied: packaging in c:\\users\\raj\\anaconda3\\lib\\site-packages (from ipykernel>=4.5.1->ipywidgets>=7.0.0->cufflinks) (23.1)\n",
      "Requirement already satisfied: psutil in c:\\users\\raj\\anaconda3\\lib\\site-packages (from ipykernel>=4.5.1->ipywidgets>=7.0.0->cufflinks) (5.9.0)\n",
      "Requirement already satisfied: pyzmq>=20 in c:\\users\\raj\\anaconda3\\lib\\site-packages (from ipykernel>=4.5.1->ipywidgets>=7.0.0->cufflinks) (23.2.0)\n",
      "Requirement already satisfied: tornado>=6.1 in c:\\users\\raj\\anaconda3\\lib\\site-packages (from ipykernel>=4.5.1->ipywidgets>=7.0.0->cufflinks) (6.3.2)\n",
      "Requirement already satisfied: parso<0.9.0,>=0.8.0 in c:\\users\\raj\\anaconda3\\lib\\site-packages (from jedi>=0.16->ipython>=5.3.0->cufflinks) (0.8.3)\n",
      "Requirement already satisfied: wcwidth in c:\\users\\raj\\anaconda3\\lib\\site-packages (from prompt-toolkit!=3.0.37,<3.1.0,>=3.0.30->ipython>=5.3.0->cufflinks) (0.2.5)\n",
      "Requirement already satisfied: executing in c:\\users\\raj\\anaconda3\\lib\\site-packages (from stack-data->ipython>=5.3.0->cufflinks) (0.8.3)\n",
      "Requirement already satisfied: asttokens in c:\\users\\raj\\anaconda3\\lib\\site-packages (from stack-data->ipython>=5.3.0->cufflinks) (2.0.5)\n",
      "Requirement already satisfied: pure-eval in c:\\users\\raj\\anaconda3\\lib\\site-packages (from stack-data->ipython>=5.3.0->cufflinks) (0.2.2)\n",
      "Requirement already satisfied: entrypoints in c:\\users\\raj\\anaconda3\\lib\\site-packages (from jupyter-client>=6.1.12->ipykernel>=4.5.1->ipywidgets>=7.0.0->cufflinks) (0.4)\n",
      "Requirement already satisfied: platformdirs>=2.5 in c:\\users\\raj\\anaconda3\\lib\\site-packages (from jupyter-core!=5.0.*,>=4.12->ipykernel>=4.5.1->ipywidgets>=7.0.0->cufflinks) (3.10.0)\n",
      "Requirement already satisfied: pywin32>=300 in c:\\users\\raj\\anaconda3\\lib\\site-packages (from jupyter-core!=5.0.*,>=4.12->ipykernel>=4.5.1->ipywidgets>=7.0.0->cufflinks) (305.1)\n",
      "Requirement already satisfied: kaleido in c:\\users\\raj\\anaconda3\\lib\\site-packages (0.2.1)\n",
      "Requirement already satisfied: pvlib in c:\\users\\raj\\anaconda3\\lib\\site-packages (0.10.3)\n",
      "Requirement already satisfied: numpy>=1.16.0 in c:\\users\\raj\\anaconda3\\lib\\site-packages (from pvlib) (1.24.3)\n",
      "Requirement already satisfied: pandas>=0.25.0 in c:\\users\\raj\\anaconda3\\lib\\site-packages (from pvlib) (2.0.3)\n",
      "Requirement already satisfied: pytz in c:\\users\\raj\\anaconda3\\lib\\site-packages (from pvlib) (2023.3.post1)\n",
      "Requirement already satisfied: requests in c:\\users\\raj\\anaconda3\\lib\\site-packages (from pvlib) (2.31.0)\n",
      "Requirement already satisfied: scipy>=1.5.0 in c:\\users\\raj\\anaconda3\\lib\\site-packages (from pvlib) (1.11.1)\n",
      "Requirement already satisfied: h5py in c:\\users\\raj\\anaconda3\\lib\\site-packages (from pvlib) (3.9.0)\n",
      "Requirement already satisfied: python-dateutil>=2.8.2 in c:\\users\\raj\\anaconda3\\lib\\site-packages (from pandas>=0.25.0->pvlib) (2.8.2)\n",
      "Requirement already satisfied: tzdata>=2022.1 in c:\\users\\raj\\anaconda3\\lib\\site-packages (from pandas>=0.25.0->pvlib) (2023.3)\n",
      "Requirement already satisfied: charset-normalizer<4,>=2 in c:\\users\\raj\\anaconda3\\lib\\site-packages (from requests->pvlib) (2.0.4)\n",
      "Requirement already satisfied: idna<4,>=2.5 in c:\\users\\raj\\anaconda3\\lib\\site-packages (from requests->pvlib) (3.4)\n",
      "Requirement already satisfied: urllib3<3,>=1.21.1 in c:\\users\\raj\\anaconda3\\lib\\site-packages (from requests->pvlib) (1.26.16)\n",
      "Requirement already satisfied: certifi>=2017.4.17 in c:\\users\\raj\\anaconda3\\lib\\site-packages (from requests->pvlib) (2023.11.17)\n",
      "Requirement already satisfied: six>=1.5 in c:\\users\\raj\\anaconda3\\lib\\site-packages (from python-dateutil>=2.8.2->pandas>=0.25.0->pvlib) (1.16.0)\n"
     ]
    }
   ],
   "source": [
    "!pip install chart_studio\n",
    "!pip install cufflinks\n",
    "!pip install -U kaleido\n",
    "!pip install pvlib"
   ]
  },
  {
   "cell_type": "code",
   "execution_count": 2,
   "id": "1a595cbf",
   "metadata": {
    "tags": []
   },
   "outputs": [],
   "source": [
    "import pvlib\n",
    "from pvlib.modelchain import ModelChain\n",
    "from pvlib.location import Location\n",
    "from pvlib.pvsystem import PVSystem\n",
    "from pvlib.temperature import TEMPERATURE_MODEL_PARAMETERS\n",
    "import pandas as pd\n",
    "import matplotlib.pyplot as plt\n",
    "import plotly.graph_objects as go\n",
    "import plotly.io as pio\n",
    "%matplotlib inline"
   ]
  },
  {
   "cell_type": "code",
   "execution_count": 3,
   "id": "687e6247",
   "metadata": {
    "tags": []
   },
   "outputs": [],
   "source": [
    "studi_global=pd.read_csv('nordhausen_global.csv',skiprows=8,nrows=8784,\n",
    "                     index_col=0)"
   ]
  },
  {
   "cell_type": "code",
   "execution_count": 4,
   "id": "451a44c5",
   "metadata": {
    "tags": []
   },
   "outputs": [],
   "source": [
    "studi_components=pd.read_csv('nordhausen_components.csv',skiprows=8,nrows=8784,\n",
    "                     index_col=0)"
   ]
  },
  {
   "cell_type": "code",
   "execution_count": 5,
   "id": "52156d16",
   "metadata": {
    "tags": []
   },
   "outputs": [],
   "source": [
    "poa_studi=pd.DataFrame(columns=['poa_global','poa_direct','poa_diffuse','temp_air','wind_speed'],\n",
    "                       index=studi_global.index)"
   ]
  },
  {
   "cell_type": "code",
   "execution_count": 6,
   "id": "388710cb",
   "metadata": {
    "tags": []
   },
   "outputs": [],
   "source": [
    "poa_studi['poa_global']=studi_global['G(i)']\n",
    "poa_studi['poa_direct']=studi_components['Gb(i)']\n",
    "poa_studi['poa_diffuse']=studi_components['Gd(i)']+studi_components['Gr(i)']\n",
    "poa_studi['temp_air']=studi_components['T2m']\n",
    "poa_studi['wind_speed']=studi_components['WS10m']"
   ]
  },
  {
   "cell_type": "code",
   "execution_count": 7,
   "id": "7b5e5d29",
   "metadata": {
    "tags": []
   },
   "outputs": [],
   "source": [
    "poa_studi.index=pd.to_datetime(poa_studi.index,format='%Y%m%d:%H%M')"
   ]
  },
  {
   "cell_type": "code",
   "execution_count": 8,
   "id": "a0e3fb94",
   "metadata": {
    "tags": []
   },
   "outputs": [],
   "source": [
    "location=Location(latitude=51.4984,\n",
    "                  longitude=10.7931,\n",
    "                  tz='Europe/Berlin',\n",
    "                  altitude=202,\n",
    "                  name='Studienkolleg')"
   ]
  },
  {
   "cell_type": "code",
   "execution_count": 9,
   "id": "5fa63c8d",
   "metadata": {
    "tags": []
   },
   "outputs": [],
   "source": [
    "cec=pvlib.pvsystem.retrieve_sam('CECmod')\n",
    "cec_inverters=pvlib.pvsystem.retrieve_sam('CECInverter')"
   ]
  },
  {
   "cell_type": "code",
   "execution_count": 10,
   "id": "368cf358",
   "metadata": {
    "tags": []
   },
   "outputs": [],
   "source": [
    "module=cec['Hanwha_Q_CELLS_Q_PEAK_L_G4_2_370']\n",
    "inverter=cec_inverters['ABB__TRIO_27_6_TL_OUTD_S1A_US_480_A__480V_']\n",
    "inverter_1=cec_inverters['Advanced_Energy_Industries__AE_3TL_12_10__480V_']\n",
    "temperature_parameters=TEMPERATURE_MODEL_PARAMETERS['sapm']['open_rack_glass_glass']"
   ]
  },
  {
   "cell_type": "code",
   "execution_count": 11,
   "id": "85854769",
   "metadata": {
    "tags": []
   },
   "outputs": [
    {
     "data": {
      "text/plain": [
       "Technology           Multi-c-Si\n",
       "Bifacial                      0\n",
       "STC                    370.0012\n",
       "PTC                       340.6\n",
       "A_c                       1.946\n",
       "Length                     1.97\n",
       "Width                     0.988\n",
       "N_s                          72\n",
       "I_sc_ref                   9.89\n",
       "V_oc_ref                  48.28\n",
       "I_mp_ref                   9.41\n",
       "V_mp_ref                  39.32\n",
       "alpha_sc               0.003758\n",
       "beta_oc               -0.139529\n",
       "T_NOCT                     45.5\n",
       "a_ref                   1.86472\n",
       "I_L_ref                9.997571\n",
       "I_o_ref                     0.0\n",
       "R_s                     0.35409\n",
       "R_sh_ref             407.904602\n",
       "Adjust                 8.079701\n",
       "gamma_r                  -0.394\n",
       "BIPV                          N\n",
       "Version       SAM 2018.11.11 r2\n",
       "Date                   1/3/2019\n",
       "Name: Hanwha_Q_CELLS_Q_PEAK_L_G4_2_370, dtype: object"
      ]
     },
     "execution_count": 11,
     "metadata": {},
     "output_type": "execute_result"
    }
   ],
   "source": [
    "cec['Hanwha_Q_CELLS_Q_PEAK_L_G4_2_370']"
   ]
  },
  {
   "cell_type": "code",
   "execution_count": 12,
   "id": "a75e6d6a",
   "metadata": {
    "tags": []
   },
   "outputs": [
    {
     "data": {
      "text/plain": [
       "Vac                          480\n",
       "Pso                    92.134544\n",
       "Paco                     27600.0\n",
       "Pdco                28199.173828\n",
       "Vdco                       715.0\n",
       "C0                          -0.0\n",
       "C1                     -0.000031\n",
       "C2                     -0.001336\n",
       "C3                     -0.001753\n",
       "Pnt                         8.28\n",
       "Vdcmax                     800.0\n",
       "Idcmax                 39.439404\n",
       "Mppt_low                   520.0\n",
       "Mppt_high                  800.0\n",
       "CEC_Date                     NaN\n",
       "CEC_Type     Utility Interactive\n",
       "Name: ABB__TRIO_27_6_TL_OUTD_S1A_US_480_A__480V_, dtype: object"
      ]
     },
     "execution_count": 12,
     "metadata": {},
     "output_type": "execute_result"
    }
   ],
   "source": [
    "cec_inverters['ABB__TRIO_27_6_TL_OUTD_S1A_US_480_A__480V_']"
   ]
  },
  {
   "cell_type": "code",
   "execution_count": 13,
   "id": "89de66b6",
   "metadata": {
    "tags": []
   },
   "outputs": [
    {
     "data": {
      "text/plain": [
       "Vac                          480\n",
       "Pso                     63.25692\n",
       "Paco                     12000.0\n",
       "Pdco                12274.302734\n",
       "Vdco                       720.0\n",
       "C0                          -0.0\n",
       "C1                     -0.000012\n",
       "C2                     -0.000531\n",
       "C3                     -0.005697\n",
       "Pnt                          3.6\n",
       "Vdcmax                     900.0\n",
       "Idcmax                 17.047643\n",
       "Mppt_low                   450.0\n",
       "Mppt_high                  900.0\n",
       "CEC_Date                     NaN\n",
       "CEC_Type     Utility Interactive\n",
       "Name: Advanced_Energy_Industries__AE_3TL_12_6__480V_, dtype: object"
      ]
     },
     "execution_count": 13,
     "metadata": {},
     "output_type": "execute_result"
    }
   ],
   "source": [
    "cec_inverters['Advanced_Energy_Industries__AE_3TL_12_6__480V_']"
   ]
  },
  {
   "cell_type": "code",
   "execution_count": 14,
   "id": "4d8edf64",
   "metadata": {
    "tags": []
   },
   "outputs": [
    {
     "data": {
      "text/plain": [
       "Vac                          208\n",
       "Pso                      25.9825\n",
       "Paco                      2000.0\n",
       "Pdco                 2089.758545\n",
       "Vdco                       330.0\n",
       "C0                     -0.000013\n",
       "C1                     -0.000029\n",
       "C2                      0.001223\n",
       "C3                     -0.001381\n",
       "Pnt                          0.4\n",
       "Vdcmax                     416.0\n",
       "Idcmax                  6.332602\n",
       "Mppt_low                   100.0\n",
       "Mppt_high                  416.0\n",
       "CEC_Date                     NaN\n",
       "CEC_Type     Utility Interactive\n",
       "Name: ABB__UNO_2_0_I_OUTD_S_US__208V_, dtype: object"
      ]
     },
     "execution_count": 14,
     "metadata": {},
     "output_type": "execute_result"
    }
   ],
   "source": [
    "cec_inverters['ABB__UNO_2_0_I_OUTD_S_US__208V_']"
   ]
  },
  {
   "cell_type": "code",
   "execution_count": 15,
   "id": "3b99c7c0",
   "metadata": {
    "tags": []
   },
   "outputs": [
    {
     "data": {
      "text/plain": [
       "Vac                          480\n",
       "Pso                   144.161957\n",
       "Paco                     60000.0\n",
       "Pdco                61110.542969\n",
       "Vdco                       720.0\n",
       "C0                          -0.0\n",
       "C1                      -0.00002\n",
       "C2                      0.000759\n",
       "C3                     -0.000953\n",
       "Pnt                          0.8\n",
       "Vdcmax                     800.0\n",
       "Idcmax                 84.875754\n",
       "Mppt_low                   570.0\n",
       "Mppt_high                  800.0\n",
       "CEC_Date              10/15/2018\n",
       "CEC_Type     Utility Interactive\n",
       "Name: ABB__TRIO_60_0_TL_OUTD_US_480__480V_, dtype: object"
      ]
     },
     "execution_count": 15,
     "metadata": {},
     "output_type": "execute_result"
    }
   ],
   "source": [
    "cec_inverters['ABB__TRIO_60_0_TL_OUTD_US_480__480V_']"
   ]
  },
  {
   "cell_type": "code",
   "execution_count": 16,
   "id": "094f0ff6",
   "metadata": {
    "tags": []
   },
   "outputs": [],
   "source": [
    "system=PVSystem(surface_tilt=25,surface_azimuth=180,\n",
    "                module_parameters=module,\n",
    "                inverter_parameters=inverter,\n",
    "                temperature_model_parameters=temperature_parameters,\n",
    "                modules_per_string=8,strings_per_inverter=8)"
   ]
  },
  {
   "cell_type": "code",
   "execution_count": 17,
   "id": "6d9bdcdd",
   "metadata": {
    "tags": []
   },
   "outputs": [
    {
     "name": "stdout",
     "output_type": "stream",
     "text": [
      "\f",
      "\n"
     ]
    }
   ],
   "source": [
    "clear"
   ]
  },
  {
   "cell_type": "code",
   "execution_count": 18,
   "id": "8bc5ad37",
   "metadata": {
    "tags": []
   },
   "outputs": [
    {
     "data": {
      "text/plain": [
       "ModelChain: \n",
       "  name: None\n",
       "  clearsky_model: ineichen\n",
       "  transposition_model: haydavies\n",
       "  solar_position_method: nrel_numpy\n",
       "  airmass_model: kastenyoung1989\n",
       "  dc_model: cec\n",
       "  ac_model: sandia_inverter\n",
       "  aoi_model: physical_aoi_loss\n",
       "  spectral_model: no_spectral_loss\n",
       "  temperature_model: sapm_temp\n",
       "  losses_model: no_extra_losses"
      ]
     },
     "execution_count": 18,
     "metadata": {},
     "output_type": "execute_result"
    }
   ],
   "source": [
    "modelchain=ModelChain(system,location,aoi_model=\"physical\",spectral_model=\"no_loss\")\n",
    "modelchain"
   ]
  },
  {
   "cell_type": "code",
   "execution_count": 19,
   "id": "14ddf2fe",
   "metadata": {
    "tags": []
   },
   "outputs": [
    {
     "name": "stdout",
     "output_type": "stream",
     "text": [
      "\f",
      "\n"
     ]
    }
   ],
   "source": [
    "clear"
   ]
  },
  {
   "cell_type": "code",
   "execution_count": 20,
   "id": "7d8708bf",
   "metadata": {
    "scrolled": true,
    "tags": []
   },
   "outputs": [
    {
     "name": "stdout",
     "output_type": "stream",
     "text": [
      "\f",
      "\n"
     ]
    }
   ],
   "source": [
    "clear"
   ]
  },
  {
   "cell_type": "code",
   "execution_count": 21,
   "id": "040ee10f",
   "metadata": {
    "tags": []
   },
   "outputs": [
    {
     "data": {
      "text/plain": [
       "<Axes: xlabel='time'>"
      ]
     },
     "execution_count": 21,
     "metadata": {},
     "output_type": "execute_result"
    },
    {
     "data": {
      "image/png": "[encoded data removed]",
      "text/plain": [
       "<Figure size 1600x900 with 1 Axes>"
      ]
     },
     "metadata": {},
     "output_type": "display_data"
    }
   ],
   "source": [
    "modelchain.run_model_from_poa(poa_studi)\n",
    "modelchain.results.ac.resample('M').sum().plot(kind='bar',figsize=(16,9))"
   ]
  },
  {
   "cell_type": "code",
   "execution_count": 22,
   "id": "e12d4da8",
   "metadata": {
    "tags": []
   },
   "outputs": [
    {
     "data": {
      "text/plain": [
       "26201425.517607562"
      ]
     },
     "execution_count": 22,
     "metadata": {},
     "output_type": "execute_result"
    }
   ],
   "source": [
    "modelchain.results.ac.resample('M').sum().sum()"
   ]
  },
  {
   "cell_type": "code",
   "execution_count": 24,
   "id": "c33dc94a",
   "metadata": {
    "tags": []
   },
   "outputs": [
    {
     "data": {
      "text/plain": [
       "26201.425517607564"
      ]
     },
     "execution_count": 24,
     "metadata": {},
     "output_type": "execute_result"
    }
   ],
   "source": [
    "26201425.517607562/1000"
   ]
  },
  {
   "cell_type": "code",
   "execution_count": 29,
   "id": "d17b855c",
   "metadata": {
    "tags": []
   },
   "outputs": [
    {
     "data": {
      "text/plain": [
       "i_sc    9.428854e+04\n",
       "v_oc    1.529001e+06\n",
       "i_mp    8.885943e+04\n",
       "v_mp    1.307434e+06\n",
       "p_mp    2.739648e+07\n",
       "i_x     9.375702e+04\n",
       "i_xx    6.779704e+04\n",
       "dtype: float64"
      ]
     },
     "execution_count": 29,
     "metadata": {},
     "output_type": "execute_result"
    }
   ],
   "source": [
    "modelchain.results.dc.resample('m').sum().sum()"
   ]
  },
  {
   "cell_type": "code",
   "execution_count": 33,
   "id": "f9c9979e",
   "metadata": {
    "tags": []
   },
   "outputs": [
    {
     "data": {
      "text/plain": [
       "0.09563792690742594"
      ]
     },
     "execution_count": 33,
     "metadata": {},
     "output_type": "execute_result"
    }
   ],
   "source": [
    "(26201.425517607564/2.739648e+07)*100"
   ]
  },
  {
   "cell_type": "code",
   "execution_count": 34,
   "id": "1bdd9ff8",
   "metadata": {
    "tags": []
   },
   "outputs": [
    {
     "data": {
      "text/plain": [
       "1106.4791181422113"
      ]
     },
     "execution_count": 34,
     "metadata": {},
     "output_type": "execute_result"
    }
   ],
   "source": [
    "modelchain.results.ac.resample('M').sum().sum()/(370*64)"
   ]
  },
  {
   "cell_type": "code",
   "execution_count": null,
   "id": "2f9e2fe7",
   "metadata": {
    "tags": []
   },
   "outputs": [],
   "source": []
  },
  {
   "cell_type": "code",
   "execution_count": null,
   "id": "15066d99",
   "metadata": {
    "tags": []
   },
   "outputs": [],
   "source": []
  },
  {
   "cell_type": "code",
   "execution_count": null,
   "id": "25fa074f",
   "metadata": {
    "tags": []
   },
   "outputs": [],
   "source": []
  },
  {
   "cell_type": "code",
   "execution_count": null,
   "id": "fe6584d3",
   "metadata": {
    "tags": []
   },
   "outputs": [],
   "source": []
  },
  {
   "cell_type": "code",
   "execution_count": null,
   "id": "4d0afa64",
   "metadata": {
    "tags": []
   },
   "outputs": [],
   "source": []
  },
  {
   "cell_type": "code",
   "execution_count": null,
   "id": "5b74ef41",
   "metadata": {
    "tags": []
   },
   "outputs": [],
   "source": []
  },
  {
   "cell_type": "code",
   "execution_count": null,
   "id": "b71984db",
   "metadata": {
    "tags": []
   },
   "outputs": [],
   "source": []
  },
  {
   "cell_type": "code",
   "execution_count": null,
   "id": "5e54878f",
   "metadata": {},
   "outputs": [],
   "source": []
  },
  {
   "cell_type": "code",
   "execution_count": null,
   "id": "3927a17b",
   "metadata": {},
   "outputs": [],
   "source": []
  }
 ],
 "metadata": {
  "kernelspec": {
   "display_name": "Python 3 (ipykernel)",
   "language": "python",
   "name": "python3"
  },
  "language_info": {
   "codemirror_mode": {
    "name": "ipython",
    "version": 3
   },
   "file_extension": ".py",
   "mimetype": "text/x-python",
   "name": "python",
   "nbconvert_exporter": "python",
   "pygments_lexer": "ipython3",
   "version": "3.11.5"
  }
 },
 "nbformat": 4,
 "nbformat_minor": 5
}
